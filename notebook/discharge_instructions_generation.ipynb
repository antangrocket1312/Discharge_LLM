{
 "cells": [
  {
   "cell_type": "code",
   "execution_count": 1,
   "id": "9a1a0777",
   "metadata": {
    "pycharm": {
     "name": "#%%\n"
    }
   },
   "outputs": [
    {
     "name": "stdout",
     "output_type": "stream",
     "text": [
      "INFO: Pandarallel will run on 10 workers.\n",
      "INFO: Pandarallel will use Memory file system to transfer data between the main process and workers.\n"
     ]
    }
   ],
   "source": [
    "import pandas as pd\n",
    "from datasets.dataset_dict import DatasetDict\n",
    "from datasets import Dataset\n",
    "import re\n",
    "import numpy as np\n",
    "from pandarallel import pandarallel\n",
    "pandarallel.initialize(progress_bar=True)"
   ]
  },
  {
   "cell_type": "code",
   "execution_count": 2,
   "id": "e9ee905f",
   "metadata": {
    "pycharm": {
     "name": "#%%\n"
    }
   },
   "outputs": [],
   "source": [
    "from multiprocessing import Pool\n",
    "import random\n",
    "from os import listdir\n",
    "import pandas as pd\n",
    "import time\n",
    "from pathlib import Path\n",
    "import re\n",
    "from tqdm import tqdm\n",
    "import openai\n",
    "import time\n",
    "openai.api_key = \"EMPTY\"\n",
    "openai.api_base = \"http://localhost:8000/v1\""
   ]
  },
  {
   "cell_type": "code",
   "execution_count": 3,
   "id": "1c28abb5",
   "metadata": {
    "pycharm": {
     "name": "#%%\n"
    }
   },
   "outputs": [],
   "source": [
    "import sys, os\n",
    "sys.path.insert(1, os.path.join(sys.path[0], '../'))\n",
    "from utils.prompting import *\n",
    "from script.section_extraction import *\n",
    "from script.radiology_report_selection import *\n",
    "from script.target_section_generation import *"
   ]
  },
  {
   "cell_type": "markdown",
   "id": "178c2597",
   "metadata": {
    "pycharm": {
     "name": "#%% md\n"
    }
   },
   "source": [
    "# Load Dataset"
   ]
  },
  {
   "cell_type": "code",
   "execution_count": 4,
   "id": "9468bf23",
   "metadata": {
    "pycharm": {
     "name": "#%%\n"
    }
   },
   "outputs": [],
   "source": [
    "# dataset = \"sample\"\n",
    "dataset = \"test_phase_2\""
   ]
  },
  {
   "cell_type": "code",
   "execution_count": 5,
   "id": "46b809d3",
   "metadata": {
    "pycharm": {
     "name": "#%%\n"
    }
   },
   "outputs": [],
   "source": [
    "data_path = f\"../data/{dataset}/\""
   ]
  },
  {
   "cell_type": "code",
   "execution_count": 6,
   "id": "b81f353b",
   "metadata": {
    "pycharm": {
     "name": "#%%\n"
    }
   },
   "outputs": [],
   "source": [
    "dfs = {}\n",
    "df_discharge = pd.read_csv(os.path.join(data_path, \"discharge.csv.gz\"), keep_default_na=False)\n",
    "df_radiology = pd.read_csv(os.path.join(data_path, \"radiology.csv.gz\"), keep_default_na=False)\n",
    "merged_df = merge_two_dfs_no_dup_cols(df_discharge, df_radiology.rename(columns={'text': 'radiology_text'}), ['hadm_id'])\n",
    "merge_col = merged_df.drop(columns=['radiology_text']).columns.tolist()\n",
    "merged_df = merged_df.groupby(merge_col).agg({\n",
    "    'radiology_text': lambda x: x.tolist()\n",
    "}).reset_index()\n",
    "df = merged_df"
   ]
  },
  {
   "cell_type": "markdown",
   "id": "f197c5bf",
   "metadata": {
    "pycharm": {
     "name": "#%% md\n"
    }
   },
   "source": [
    "# Section Extraction (Parsing)"
   ]
  },
  {
   "cell_type": "code",
   "execution_count": 7,
   "id": "f6238b86",
   "metadata": {
    "scrolled": true,
    "pycharm": {
     "name": "#%%\n"
    }
   },
   "outputs": [],
   "source": [
    "# SECTIONS REPORT\n",
    "s_list = []\n",
    "for section in input_sections.keys():\n",
    "    s = pd.Series()\n",
    "    s.name = section\n",
    "    \n",
    "    size = df.shape[0]\n",
    "    filtered_size = df[df['text'].str.contains(section)].shape[0]\n",
    "    s['dist'] = filtered_size / size    \n",
    "    s_list += [s]"
   ]
  },
  {
   "cell_type": "code",
   "execution_count": 8,
   "id": "5a6f2e71",
   "metadata": {
    "pycharm": {
     "name": "#%%\n"
    }
   },
   "outputs": [
    {
     "data": {
      "text/html": [
       "<div>\n",
       "<style scoped>\n",
       "    .dataframe tbody tr th:only-of-type {\n",
       "        vertical-align: middle;\n",
       "    }\n",
       "\n",
       "    .dataframe tbody tr th {\n",
       "        vertical-align: top;\n",
       "    }\n",
       "\n",
       "    .dataframe thead th {\n",
       "        text-align: right;\n",
       "    }\n",
       "</style>\n",
       "<table border=\"1\" class=\"dataframe\">\n",
       "  <thead>\n",
       "    <tr style=\"text-align: right;\">\n",
       "      <th></th>\n",
       "      <th>dist</th>\n",
       "    </tr>\n",
       "  </thead>\n",
       "  <tbody>\n",
       "    <tr>\n",
       "      <th>Allergies</th>\n",
       "      <td>1.000000</td>\n",
       "    </tr>\n",
       "    <tr>\n",
       "      <th>Chief Complaint</th>\n",
       "      <td>0.967980</td>\n",
       "    </tr>\n",
       "    <tr>\n",
       "      <th>Major Surgical or Invasive Procedure</th>\n",
       "      <td>0.997811</td>\n",
       "    </tr>\n",
       "    <tr>\n",
       "      <th>History of Present Illness</th>\n",
       "      <td>0.977468</td>\n",
       "    </tr>\n",
       "    <tr>\n",
       "      <th>Past Medical History</th>\n",
       "      <td>0.978106</td>\n",
       "    </tr>\n",
       "    <tr>\n",
       "      <th>Social History</th>\n",
       "      <td>0.971538</td>\n",
       "    </tr>\n",
       "    <tr>\n",
       "      <th>Family History</th>\n",
       "      <td>0.966794</td>\n",
       "    </tr>\n",
       "    <tr>\n",
       "      <th>Physical Exam</th>\n",
       "      <td>0.954753</td>\n",
       "    </tr>\n",
       "    <tr>\n",
       "      <th>Pertinent Results</th>\n",
       "      <td>0.979748</td>\n",
       "    </tr>\n",
       "    <tr>\n",
       "      <th>Brief Hospital Course</th>\n",
       "      <td>1.000000</td>\n",
       "    </tr>\n",
       "    <tr>\n",
       "      <th>Medications on Admission</th>\n",
       "      <td>0.929757</td>\n",
       "    </tr>\n",
       "    <tr>\n",
       "      <th>Discharge Medications</th>\n",
       "      <td>0.986408</td>\n",
       "    </tr>\n",
       "    <tr>\n",
       "      <th>Discharge Disposition</th>\n",
       "      <td>0.983488</td>\n",
       "    </tr>\n",
       "    <tr>\n",
       "      <th>Discharge Diagnosis</th>\n",
       "      <td>0.956668</td>\n",
       "    </tr>\n",
       "    <tr>\n",
       "      <th>Discharge Condition</th>\n",
       "      <td>0.999818</td>\n",
       "    </tr>\n",
       "    <tr>\n",
       "      <th>Discharge Instructions</th>\n",
       "      <td>1.000000</td>\n",
       "    </tr>\n",
       "  </tbody>\n",
       "</table>\n",
       "</div>"
      ],
      "text/plain": [
       "                                          dist\n",
       "Allergies                             1.000000\n",
       "Chief Complaint                       0.967980\n",
       "Major Surgical or Invasive Procedure  0.997811\n",
       "History of Present Illness            0.977468\n",
       "Past Medical History                  0.978106\n",
       "Social History                        0.971538\n",
       "Family History                        0.966794\n",
       "Physical Exam                         0.954753\n",
       "Pertinent Results                     0.979748\n",
       "Brief Hospital Course                 1.000000\n",
       "Medications on Admission              0.929757\n",
       "Discharge Medications                 0.986408\n",
       "Discharge Disposition                 0.983488\n",
       "Discharge Diagnosis                   0.956668\n",
       "Discharge Condition                   0.999818\n",
       "Discharge Instructions                1.000000"
      ]
     },
     "execution_count": 8,
     "metadata": {},
     "output_type": "execute_result"
    }
   ],
   "source": [
    "pd.DataFrame(s_list)"
   ]
  },
  {
   "cell_type": "markdown",
   "id": "a62fa4a1",
   "metadata": {
    "pycharm": {
     "name": "#%% md\n"
    }
   },
   "source": [
    "## Parse"
   ]
  },
  {
   "cell_type": "code",
   "execution_count": 9,
   "id": "4d7f5cd1",
   "metadata": {
    "scrolled": true,
    "pycharm": {
     "name": "#%%\n"
    }
   },
   "outputs": [
    {
     "data": {
      "application/vnd.jupyter.widget-view+json": {
       "model_id": "e51f1143761b4039ac2a40c6440ad439",
       "version_major": 2,
       "version_minor": 0
      },
      "text/plain": [
       "VBox(children=(HBox(children=(IntProgress(value=0, description='0.00%', max=1097), Label(value='0 / 1097'))), …"
      ]
     },
     "metadata": {},
     "output_type": "display_data"
    }
   ],
   "source": [
    "df = df.parallel_apply(parse_sections, axis=1)"
   ]
  },
  {
   "cell_type": "code",
   "execution_count": 10,
   "id": "04a7e64a",
   "metadata": {
    "pycharm": {
     "name": "#%%\n"
    }
   },
   "outputs": [],
   "source": [
    "sections_col = [col.replace(\" \", \"_\") for col in input_sections.keys()]"
   ]
  },
  {
   "cell_type": "code",
   "execution_count": 11,
   "id": "f71aed32",
   "metadata": {
    "pycharm": {
     "name": "#%%\n"
    }
   },
   "outputs": [],
   "source": [
    "for col in sections_col:\n",
    "    mask = pd.notnull(df[col])\n",
    "    df.loc[mask, col] = df.loc[mask, col].apply(lambda x: x[1])"
   ]
  },
  {
   "cell_type": "code",
   "execution_count": 12,
   "id": "18fb2e4a",
   "metadata": {
    "pycharm": {
     "name": "#%%\n"
    }
   },
   "outputs": [],
   "source": [
    "df.to_pickle(os.path.join(data_path, \"discharge_extracted.pkl\"))"
   ]
  },
  {
   "cell_type": "markdown",
   "id": "9b2545b9",
   "metadata": {
    "pycharm": {
     "name": "#%% md\n"
    }
   },
   "source": [
    "# Radiology Report Selection"
   ]
  },
  {
   "cell_type": "code",
   "execution_count": 13,
   "id": "23fdf407",
   "metadata": {
    "pycharm": {
     "name": "#%%\n"
    }
   },
   "outputs": [],
   "source": [
    "df = pd.read_pickle(os.path.join(data_path, \"discharge_extracted.pkl\"))"
   ]
  },
  {
   "cell_type": "code",
   "execution_count": 14,
   "id": "02b74b9a",
   "metadata": {
    "pycharm": {
     "name": "#%%\n"
    }
   },
   "outputs": [],
   "source": [
    "df = df.apply(replace_pertinent_results_with_radiology, axis=1)"
   ]
  },
  {
   "cell_type": "code",
   "execution_count": 15,
   "id": "b28fba04",
   "metadata": {
    "pycharm": {
     "name": "#%%\n"
    }
   },
   "outputs": [
    {
     "data": {
      "text/html": [
       "<div>\n",
       "<style scoped>\n",
       "    .dataframe tbody tr th:only-of-type {\n",
       "        vertical-align: middle;\n",
       "    }\n",
       "\n",
       "    .dataframe tbody tr th {\n",
       "        vertical-align: top;\n",
       "    }\n",
       "\n",
       "    .dataframe thead th {\n",
       "        text-align: right;\n",
       "    }\n",
       "</style>\n",
       "<table border=\"1\" class=\"dataframe\">\n",
       "  <thead>\n",
       "    <tr style=\"text-align: right;\">\n",
       "      <th></th>\n",
       "      <th>note_id</th>\n",
       "      <th>subject_id</th>\n",
       "      <th>hadm_id</th>\n",
       "      <th>note_type</th>\n",
       "      <th>note_seq</th>\n",
       "      <th>charttime</th>\n",
       "      <th>storetime</th>\n",
       "      <th>text</th>\n",
       "      <th>radiology_text</th>\n",
       "      <th>Allergies</th>\n",
       "      <th>...</th>\n",
       "      <th>Family_History</th>\n",
       "      <th>Physical_Exam</th>\n",
       "      <th>Pertinent_Results</th>\n",
       "      <th>Brief_Hospital_Course</th>\n",
       "      <th>Medications_on_Admission</th>\n",
       "      <th>Discharge_Medications</th>\n",
       "      <th>Discharge_Disposition</th>\n",
       "      <th>Discharge_Diagnosis</th>\n",
       "      <th>Discharge_Condition</th>\n",
       "      <th>Discharge_Instructions</th>\n",
       "    </tr>\n",
       "  </thead>\n",
       "  <tbody>\n",
       "    <tr>\n",
       "      <th>0</th>\n",
       "      <td>10001884-DS-35</td>\n",
       "      <td>10001884</td>\n",
       "      <td>24962904</td>\n",
       "      <td>DS</td>\n",
       "      <td>35</td>\n",
       "      <td>2130-12-08 00:00:00</td>\n",
       "      <td>2130-12-13 21:50:00</td>\n",
       "      <td>\\nName:  ___             Unit No:   ___\\n \\nA...</td>\n",
       "      <td>[EXAMINATION:\\nChest:  Frontal and lateral vie...</td>\n",
       "      <td>IV Dye, Iodine Containing Contrast Media / Oxy...</td>\n",
       "      <td>...</td>\n",
       "      <td>Mother with asthma and hypertension. Father wi...</td>\n",
       "      <td>ADMISSION PHYSICAL EXAM:\\n====================...</td>\n",
       "      <td>ADMISSION LABS: \\n=========================\\n_...</td>\n",
       "      <td>Ms. ___ is a ___ female with history of \\nCOPD...</td>\n",
       "      <td>The Preadmission Medication list is accurate a...</td>\n",
       "      <td>1. Acetaminophen 325 mg PO Q4H:PRN Pain \\n2. a...</td>\n",
       "      <td>Extended Care</td>\n",
       "      <td>PRIMARY:\\nCOPD Exacerbation\\n\\nSECONDARY:\\nAfi...</td>\n",
       "      <td>Mental Status: Clear and coherent.</td>\n",
       "      <td>Dear Ms. ___,\\n\\nYou were admitted to ___ afte...</td>\n",
       "    </tr>\n",
       "    <tr>\n",
       "      <th>1</th>\n",
       "      <td>10003019-DS-22</td>\n",
       "      <td>10003019</td>\n",
       "      <td>22774359</td>\n",
       "      <td>DS</td>\n",
       "      <td>22</td>\n",
       "      <td>2175-10-17 00:00:00</td>\n",
       "      <td>2175-10-24 14:40:00</td>\n",
       "      <td>\\nName:  ___.              Unit No:   ___\\n \\...</td>\n",
       "      <td>[EXAM:  Chest, frontal and lateral views.\\n\\nC...</td>\n",
       "      <td>Ragweed / morphine / Percocet</td>\n",
       "      <td>...</td>\n",
       "      <td>Mother: ___, cardiac disease.  \\nFather: diver...</td>\n",
       "      <td>ADMISSION EXAM\\nVitals: 124/67 on neosynephrin...</td>\n",
       "      <td>ADMISSION LABS\\n___ 10:40AM BLOOD WBC-0.2* RBC...</td>\n",
       "      <td>___ male with h/o Hodgkin's lymphoma C1D17 ABV...</td>\n",
       "      <td>The Preadmission Medication list is accurate a...</td>\n",
       "      <td>1. Acyclovir 400 mg PO Q8H \\n2. Fluconazole 40...</td>\n",
       "      <td>Home With Service</td>\n",
       "      <td>Primary Diagnosis\\nNeutropenic Fever, no sourc...</td>\n",
       "      <td>Mental Status: Clear and coherent.</td>\n",
       "      <td>Dear Mr. ___,\\n\\nIt has been our pleasure to b...</td>\n",
       "    </tr>\n",
       "    <tr>\n",
       "      <th>2</th>\n",
       "      <td>10003299-DS-7</td>\n",
       "      <td>10003299</td>\n",
       "      <td>29323205</td>\n",
       "      <td>DS</td>\n",
       "      <td>7</td>\n",
       "      <td>2181-10-23 00:00:00</td>\n",
       "      <td>2181-10-24 07:08:00</td>\n",
       "      <td>\\nName:  ___                 Unit No:   ___\\n...</td>\n",
       "      <td>[EXAMINATION:  CT HEAD W/O CONTRAST Q111 CT HE...</td>\n",
       "      <td>Iodine-Iodine Containing</td>\n",
       "      <td>...</td>\n",
       "      <td>Mother had stroke in her ___ or ___.  Her pate...</td>\n",
       "      <td>Admission Exam:\\nVitals: T: 97.4 P: 65 R: 16  ...</td>\n",
       "      <td>___ 01:10PM   GLUCOSE-125* UREA N-9 CREAT-0.9 ...</td>\n",
       "      <td>___ RH female with a PMHx of paramedian pontin...</td>\n",
       "      <td>The Preadmission Medication list is accurate a...</td>\n",
       "      <td>1.  Aspirin 81 mg PO DAILY  \\n2.  Atorvastatin...</td>\n",
       "      <td>Home With Service</td>\n",
       "      <td>Ischemic stroke</td>\n",
       "      <td>Mental Status: Clear and coherent.</td>\n",
       "      <td>Dear ___ were hospitalized due to symptoms of ...</td>\n",
       "    </tr>\n",
       "    <tr>\n",
       "      <th>3</th>\n",
       "      <td>10003502-DS-7</td>\n",
       "      <td>10003502</td>\n",
       "      <td>20459702</td>\n",
       "      <td>DS</td>\n",
       "      <td>7</td>\n",
       "      <td>2166-02-19 00:00:00</td>\n",
       "      <td>2166-02-20 09:32:00</td>\n",
       "      <td>\\nName:  ___                 Unit No:   ___\\n...</td>\n",
       "      <td>[HISTORY:  Nausea and chllls.\\n\\nTECHNIQUE:  F...</td>\n",
       "      <td>nifedipine / Amitriptyline / Prilosec OTC / Te...</td>\n",
       "      <td>...</td>\n",
       "      <td>Mother deceased at ___ yo from breast cancer. ...</td>\n",
       "      <td>On admission: \\nVS 97.4 140/P 62 18 96\\nGEN Al...</td>\n",
       "      <td>___ 10:15AM BLOOD WBC-6.4 RBC-3.64* Hgb-11.1* ...</td>\n",
       "      <td>Hospitalization Summary: \\nMs. ___ is an ___ y...</td>\n",
       "      <td>The Preadmission Medication list is accurate a...</td>\n",
       "      <td>1. Acetaminophen 500 mg PO Q6H:PRN pain \\n2. A...</td>\n",
       "      <td>Home With Service</td>\n",
       "      <td>Primary: \\nAcute diastolic CHF exacerbation\\nN...</td>\n",
       "      <td>Mental Status: Clear and coherent.</td>\n",
       "      <td>It was a pleasure caring for you at ___ \\n___....</td>\n",
       "    </tr>\n",
       "    <tr>\n",
       "      <th>4</th>\n",
       "      <td>10004322-DS-21</td>\n",
       "      <td>10004322</td>\n",
       "      <td>28755331</td>\n",
       "      <td>DS</td>\n",
       "      <td>21</td>\n",
       "      <td>2131-01-26 00:00:00</td>\n",
       "      <td>2131-01-26 18:32:00</td>\n",
       "      <td>\\nName:  ___                 Unit No:   ___\\n...</td>\n",
       "      <td>[CHEST RADIOGRAPH PERFORMED ON ___\\n\\nCOMPARIS...</td>\n",
       "      <td>No Known Allergies / Adverse Drug Reactions</td>\n",
       "      <td>...</td>\n",
       "      <td>Unknown to patient.</td>\n",
       "      <td>ADMISSION PHYSICAL EXAM: \\nVS: 98.1 117/62 97 ...</td>\n",
       "      <td>ADMISSION LABS:\\n___ 03:40PM BLOOD WBC-17.7* R...</td>\n",
       "      <td>___ with h/o psychosis admitted because of mul...</td>\n",
       "      <td>The Preadmission Medication list is accurate a...</td>\n",
       "      <td>1. Acetaminophen 650 mg PO Q6H:PRN pain \\n2. A...</td>\n",
       "      <td>Home With Service</td>\n",
       "      <td>Primary: mechanical fall</td>\n",
       "      <td>Mental Status: Confused - sometimes.</td>\n",
       "      <td>Dear Mr. ___,\\n\\nIt was our pleasure to care f...</td>\n",
       "    </tr>\n",
       "    <tr>\n",
       "      <th>...</th>\n",
       "      <td>...</td>\n",
       "      <td>...</td>\n",
       "      <td>...</td>\n",
       "      <td>...</td>\n",
       "      <td>...</td>\n",
       "      <td>...</td>\n",
       "      <td>...</td>\n",
       "      <td>...</td>\n",
       "      <td>...</td>\n",
       "      <td>...</td>\n",
       "      <td>...</td>\n",
       "      <td>...</td>\n",
       "      <td>...</td>\n",
       "      <td>...</td>\n",
       "      <td>...</td>\n",
       "      <td>...</td>\n",
       "      <td>...</td>\n",
       "      <td>...</td>\n",
       "      <td>...</td>\n",
       "      <td>...</td>\n",
       "      <td>...</td>\n",
       "    </tr>\n",
       "    <tr>\n",
       "      <th>10957</th>\n",
       "      <td>19995366-DS-16</td>\n",
       "      <td>19995366</td>\n",
       "      <td>23598426</td>\n",
       "      <td>DS</td>\n",
       "      <td>16</td>\n",
       "      <td>2148-05-18 00:00:00</td>\n",
       "      <td>2148-05-18 14:33:00</td>\n",
       "      <td>\\nName:  ___                   Unit No:   ___...</td>\n",
       "      <td>[INDICATION:  Isolated right sixth nerve palsy...</td>\n",
       "      <td>No Known Allergies / Adverse Drug Reactions</td>\n",
       "      <td>...</td>\n",
       "      <td>Family Hx: mother had a brain aneurysm at age ...</td>\n",
       "      <td>Physical Exam: \\n\\nVitals: T: 97.8 P: 70 R: 16...</td>\n",
       "      <td>Pertinent Laboratory Data\\n\\nAlbumin-4.3 Calci...</td>\n",
       "      <td>Right Abducens Nerve Palsy\\nThe patient was ad...</td>\n",
       "      <td>1. Simvastatin 20 mg PO DAILY</td>\n",
       "      <td>1. Simvastatin 20 mg PO DAILY</td>\n",
       "      <td>Home</td>\n",
       "      <td>Abducens nerve palsy.</td>\n",
       "      <td>Mental Status: Clear and coherent.</td>\n",
       "      <td>You came to the hospital with double vision (d...</td>\n",
       "    </tr>\n",
       "    <tr>\n",
       "      <th>10958</th>\n",
       "      <td>19997367-DS-24</td>\n",
       "      <td>19997367</td>\n",
       "      <td>29933340</td>\n",
       "      <td>DS</td>\n",
       "      <td>24</td>\n",
       "      <td>2128-01-21 00:00:00</td>\n",
       "      <td>2128-01-22 21:41:00</td>\n",
       "      <td>\\nName:  ___                  Unit No:   ___\\...</td>\n",
       "      <td>[EXAMINATION:  CHEST (PA AND LAT)\\n\\nINDICATIO...</td>\n",
       "      <td>Cipro Cystitis / Dilaudid / Mexiletine / Bactr...</td>\n",
       "      <td>...</td>\n",
       "      <td>Father with MS. ___, denies sister and mother ...</td>\n",
       "      <td>ADMISSION PHYSICAL EXAMINATION\\n==============...</td>\n",
       "      <td>ADMISSION LABS\\n====================\\n___ 05:1...</td>\n",
       "      <td>Ms. ___ is a ___ y/o woman with a complicated ...</td>\n",
       "      <td>The Preadmission Medication list is accurate a...</td>\n",
       "      <td>1. FoLIC Acid 1 mg PO DAILY \\n2. Rifaximin 550...</td>\n",
       "      <td>Home With Service</td>\n",
       "      <td>PRIMARY\\nHepatic Encephalopathy\\nUTI\\nPulmonar...</td>\n",
       "      <td>Mental Status: Clear and coherent.</td>\n",
       "      <td>Dear Ms. ___,\\n\\nIt was a pleasure being a par...</td>\n",
       "    </tr>\n",
       "    <tr>\n",
       "      <th>10959</th>\n",
       "      <td>19997367-DS-25</td>\n",
       "      <td>19997367</td>\n",
       "      <td>22314636</td>\n",
       "      <td>DS</td>\n",
       "      <td>25</td>\n",
       "      <td>2128-01-31 00:00:00</td>\n",
       "      <td>2128-02-01 17:02:00</td>\n",
       "      <td>\\nName:  ___                  Unit No:   ___\\...</td>\n",
       "      <td>[EXAMINATION:   CHEST (AP AND LATERAL)\\n\\nINDI...</td>\n",
       "      <td>Cipro Cystitis / Dilaudid / Mexiletine / Bactr...</td>\n",
       "      <td>...</td>\n",
       "      <td>Father with MS. ___, denies sister and mother ...</td>\n",
       "      <td>ADMISSION PHYSICAL EXAM:\\nVitals - 97.8, 106/3...</td>\n",
       "      <td>ADMISSION LABS:\\n================\\n___ 11:16PM...</td>\n",
       "      <td>___ PMH of Cirrhosis ___ hemochromatosis, c/b ...</td>\n",
       "      <td>The Preadmission Medication list is accurate a...</td>\n",
       "      <td>1. Acyclovir 400 mg PO Q12H \\n2. Aspirin 81 mg...</td>\n",
       "      <td>Home With Service</td>\n",
       "      <td>Primary diagnoses:\\n- Acute on chronic diastol...</td>\n",
       "      <td>Mental Status: Clear and coherent.</td>\n",
       "      <td>Dear ___,\\n\\n___ was a pleasure taking care of...</td>\n",
       "    </tr>\n",
       "    <tr>\n",
       "      <th>10960</th>\n",
       "      <td>19997843-DS-13</td>\n",
       "      <td>19997843</td>\n",
       "      <td>20277361</td>\n",
       "      <td>DS</td>\n",
       "      <td>13</td>\n",
       "      <td>2120-11-28 00:00:00</td>\n",
       "      <td>2120-11-28 16:16:00</td>\n",
       "      <td>\\nName:  ___                   Unit No:   ___...</td>\n",
       "      <td>[EXAMINATION:  CHEST (PORTABLE AP)\\n\\nINDICATI...</td>\n",
       "      <td>No Allergies/ADRs on File</td>\n",
       "      <td>...</td>\n",
       "      <td>No family history of liver disease</td>\n",
       "      <td>ADMISSION PHYSICAL EXAM: \\n===================...</td>\n",
       "      <td>===============\\nAdmission labs\\n=============...</td>\n",
       "      <td>SUMMARY: \\n___ y/o ___ immigrant with h/o alco...</td>\n",
       "      <td>The Preadmission Medication list is accurate a...</td>\n",
       "      <td>NaN</td>\n",
       "      <td>Home</td>\n",
       "      <td>PRIMARY DIAGNOSES\\n# Complex Alcohol Withdrawa...</td>\n",
       "      <td>Mental Status: Confused - sometimes.</td>\n",
       "      <td>___,\\n\\nFue un placer atenderlo en ___ Médico ...</td>\n",
       "    </tr>\n",
       "    <tr>\n",
       "      <th>10961</th>\n",
       "      <td>19998330-DS-18</td>\n",
       "      <td>19998330</td>\n",
       "      <td>24492004</td>\n",
       "      <td>DS</td>\n",
       "      <td>18</td>\n",
       "      <td>2178-10-08 00:00:00</td>\n",
       "      <td>2178-10-08 14:17:00</td>\n",
       "      <td>\\nName:  ___                        Unit No: ...</td>\n",
       "      <td>[INDICATION:  ___ with dyspnea, assess endotra...</td>\n",
       "      <td>Codeine</td>\n",
       "      <td>...</td>\n",
       "      <td>No history of CKD, lung disease, or malignancies.</td>\n",
       "      <td>ADMISSION EXAM:\\nVitals:  97.6 67 138/86 14 10...</td>\n",
       "      <td>ADMISSION LABS:\\n___ 05:25AM BLOOD WBC-6.7 RBC...</td>\n",
       "      <td>___ year-old woman with COPD, diastolic heart ...</td>\n",
       "      <td>- Albuterol 90mcg ___ inhaled q4h prn SOB/whee...</td>\n",
       "      <td>1. amlodipine 10 mg Tablet Sig: One (1) Tablet...</td>\n",
       "      <td>Home With Service</td>\n",
       "      <td>PRIMARY DIAGNOSES:\\n- Respiratory failure\\n- C...</td>\n",
       "      <td>Mental Status: Clear and coherent.</td>\n",
       "      <td>You were admitted to the ICU with respiratory ...</td>\n",
       "    </tr>\n",
       "  </tbody>\n",
       "</table>\n",
       "<p>10962 rows × 25 columns</p>\n",
       "</div>"
      ],
      "text/plain": [
       "              note_id  subject_id   hadm_id note_type  note_seq  \\\n",
       "0      10001884-DS-35    10001884  24962904        DS        35   \n",
       "1      10003019-DS-22    10003019  22774359        DS        22   \n",
       "2       10003299-DS-7    10003299  29323205        DS         7   \n",
       "3       10003502-DS-7    10003502  20459702        DS         7   \n",
       "4      10004322-DS-21    10004322  28755331        DS        21   \n",
       "...               ...         ...       ...       ...       ...   \n",
       "10957  19995366-DS-16    19995366  23598426        DS        16   \n",
       "10958  19997367-DS-24    19997367  29933340        DS        24   \n",
       "10959  19997367-DS-25    19997367  22314636        DS        25   \n",
       "10960  19997843-DS-13    19997843  20277361        DS        13   \n",
       "10961  19998330-DS-18    19998330  24492004        DS        18   \n",
       "\n",
       "                 charttime            storetime  \\\n",
       "0      2130-12-08 00:00:00  2130-12-13 21:50:00   \n",
       "1      2175-10-17 00:00:00  2175-10-24 14:40:00   \n",
       "2      2181-10-23 00:00:00  2181-10-24 07:08:00   \n",
       "3      2166-02-19 00:00:00  2166-02-20 09:32:00   \n",
       "4      2131-01-26 00:00:00  2131-01-26 18:32:00   \n",
       "...                    ...                  ...   \n",
       "10957  2148-05-18 00:00:00  2148-05-18 14:33:00   \n",
       "10958  2128-01-21 00:00:00  2128-01-22 21:41:00   \n",
       "10959  2128-01-31 00:00:00  2128-02-01 17:02:00   \n",
       "10960  2120-11-28 00:00:00  2120-11-28 16:16:00   \n",
       "10961  2178-10-08 00:00:00  2178-10-08 14:17:00   \n",
       "\n",
       "                                                    text  \\\n",
       "0       \\nName:  ___             Unit No:   ___\\n \\nA...   \n",
       "1       \\nName:  ___.              Unit No:   ___\\n \\...   \n",
       "2       \\nName:  ___                 Unit No:   ___\\n...   \n",
       "3       \\nName:  ___                 Unit No:   ___\\n...   \n",
       "4       \\nName:  ___                 Unit No:   ___\\n...   \n",
       "...                                                  ...   \n",
       "10957   \\nName:  ___                   Unit No:   ___...   \n",
       "10958   \\nName:  ___                  Unit No:   ___\\...   \n",
       "10959   \\nName:  ___                  Unit No:   ___\\...   \n",
       "10960   \\nName:  ___                   Unit No:   ___...   \n",
       "10961   \\nName:  ___                        Unit No: ...   \n",
       "\n",
       "                                          radiology_text  \\\n",
       "0      [EXAMINATION:\\nChest:  Frontal and lateral vie...   \n",
       "1      [EXAM:  Chest, frontal and lateral views.\\n\\nC...   \n",
       "2      [EXAMINATION:  CT HEAD W/O CONTRAST Q111 CT HE...   \n",
       "3      [HISTORY:  Nausea and chllls.\\n\\nTECHNIQUE:  F...   \n",
       "4      [CHEST RADIOGRAPH PERFORMED ON ___\\n\\nCOMPARIS...   \n",
       "...                                                  ...   \n",
       "10957  [INDICATION:  Isolated right sixth nerve palsy...   \n",
       "10958  [EXAMINATION:  CHEST (PA AND LAT)\\n\\nINDICATIO...   \n",
       "10959  [EXAMINATION:   CHEST (AP AND LATERAL)\\n\\nINDI...   \n",
       "10960  [EXAMINATION:  CHEST (PORTABLE AP)\\n\\nINDICATI...   \n",
       "10961  [INDICATION:  ___ with dyspnea, assess endotra...   \n",
       "\n",
       "                                               Allergies  ...  \\\n",
       "0      IV Dye, Iodine Containing Contrast Media / Oxy...  ...   \n",
       "1                          Ragweed / morphine / Percocet  ...   \n",
       "2                               Iodine-Iodine Containing  ...   \n",
       "3      nifedipine / Amitriptyline / Prilosec OTC / Te...  ...   \n",
       "4            No Known Allergies / Adverse Drug Reactions  ...   \n",
       "...                                                  ...  ...   \n",
       "10957        No Known Allergies / Adverse Drug Reactions  ...   \n",
       "10958  Cipro Cystitis / Dilaudid / Mexiletine / Bactr...  ...   \n",
       "10959  Cipro Cystitis / Dilaudid / Mexiletine / Bactr...  ...   \n",
       "10960                          No Allergies/ADRs on File  ...   \n",
       "10961                                            Codeine  ...   \n",
       "\n",
       "                                          Family_History  \\\n",
       "0      Mother with asthma and hypertension. Father wi...   \n",
       "1      Mother: ___, cardiac disease.  \\nFather: diver...   \n",
       "2      Mother had stroke in her ___ or ___.  Her pate...   \n",
       "3      Mother deceased at ___ yo from breast cancer. ...   \n",
       "4                                    Unknown to patient.   \n",
       "...                                                  ...   \n",
       "10957  Family Hx: mother had a brain aneurysm at age ...   \n",
       "10958  Father with MS. ___, denies sister and mother ...   \n",
       "10959  Father with MS. ___, denies sister and mother ...   \n",
       "10960                 No family history of liver disease   \n",
       "10961  No history of CKD, lung disease, or malignancies.   \n",
       "\n",
       "                                           Physical_Exam  \\\n",
       "0      ADMISSION PHYSICAL EXAM:\\n====================...   \n",
       "1      ADMISSION EXAM\\nVitals: 124/67 on neosynephrin...   \n",
       "2      Admission Exam:\\nVitals: T: 97.4 P: 65 R: 16  ...   \n",
       "3      On admission: \\nVS 97.4 140/P 62 18 96\\nGEN Al...   \n",
       "4      ADMISSION PHYSICAL EXAM: \\nVS: 98.1 117/62 97 ...   \n",
       "...                                                  ...   \n",
       "10957  Physical Exam: \\n\\nVitals: T: 97.8 P: 70 R: 16...   \n",
       "10958  ADMISSION PHYSICAL EXAMINATION\\n==============...   \n",
       "10959  ADMISSION PHYSICAL EXAM:\\nVitals - 97.8, 106/3...   \n",
       "10960  ADMISSION PHYSICAL EXAM: \\n===================...   \n",
       "10961  ADMISSION EXAM:\\nVitals:  97.6 67 138/86 14 10...   \n",
       "\n",
       "                                       Pertinent_Results  \\\n",
       "0      ADMISSION LABS: \\n=========================\\n_...   \n",
       "1      ADMISSION LABS\\n___ 10:40AM BLOOD WBC-0.2* RBC...   \n",
       "2      ___ 01:10PM   GLUCOSE-125* UREA N-9 CREAT-0.9 ...   \n",
       "3      ___ 10:15AM BLOOD WBC-6.4 RBC-3.64* Hgb-11.1* ...   \n",
       "4      ADMISSION LABS:\\n___ 03:40PM BLOOD WBC-17.7* R...   \n",
       "...                                                  ...   \n",
       "10957  Pertinent Laboratory Data\\n\\nAlbumin-4.3 Calci...   \n",
       "10958  ADMISSION LABS\\n====================\\n___ 05:1...   \n",
       "10959  ADMISSION LABS:\\n================\\n___ 11:16PM...   \n",
       "10960  ===============\\nAdmission labs\\n=============...   \n",
       "10961  ADMISSION LABS:\\n___ 05:25AM BLOOD WBC-6.7 RBC...   \n",
       "\n",
       "                                   Brief_Hospital_Course  \\\n",
       "0      Ms. ___ is a ___ female with history of \\nCOPD...   \n",
       "1      ___ male with h/o Hodgkin's lymphoma C1D17 ABV...   \n",
       "2      ___ RH female with a PMHx of paramedian pontin...   \n",
       "3      Hospitalization Summary: \\nMs. ___ is an ___ y...   \n",
       "4      ___ with h/o psychosis admitted because of mul...   \n",
       "...                                                  ...   \n",
       "10957  Right Abducens Nerve Palsy\\nThe patient was ad...   \n",
       "10958  Ms. ___ is a ___ y/o woman with a complicated ...   \n",
       "10959  ___ PMH of Cirrhosis ___ hemochromatosis, c/b ...   \n",
       "10960  SUMMARY: \\n___ y/o ___ immigrant with h/o alco...   \n",
       "10961  ___ year-old woman with COPD, diastolic heart ...   \n",
       "\n",
       "                                Medications_on_Admission  \\\n",
       "0      The Preadmission Medication list is accurate a...   \n",
       "1      The Preadmission Medication list is accurate a...   \n",
       "2      The Preadmission Medication list is accurate a...   \n",
       "3      The Preadmission Medication list is accurate a...   \n",
       "4      The Preadmission Medication list is accurate a...   \n",
       "...                                                  ...   \n",
       "10957                      1. Simvastatin 20 mg PO DAILY   \n",
       "10958  The Preadmission Medication list is accurate a...   \n",
       "10959  The Preadmission Medication list is accurate a...   \n",
       "10960  The Preadmission Medication list is accurate a...   \n",
       "10961  - Albuterol 90mcg ___ inhaled q4h prn SOB/whee...   \n",
       "\n",
       "                                   Discharge_Medications  \\\n",
       "0      1. Acetaminophen 325 mg PO Q4H:PRN Pain \\n2. a...   \n",
       "1      1. Acyclovir 400 mg PO Q8H \\n2. Fluconazole 40...   \n",
       "2      1.  Aspirin 81 mg PO DAILY  \\n2.  Atorvastatin...   \n",
       "3      1. Acetaminophen 500 mg PO Q6H:PRN pain \\n2. A...   \n",
       "4      1. Acetaminophen 650 mg PO Q6H:PRN pain \\n2. A...   \n",
       "...                                                  ...   \n",
       "10957                      1. Simvastatin 20 mg PO DAILY   \n",
       "10958  1. FoLIC Acid 1 mg PO DAILY \\n2. Rifaximin 550...   \n",
       "10959  1. Acyclovir 400 mg PO Q12H \\n2. Aspirin 81 mg...   \n",
       "10960                                                NaN   \n",
       "10961  1. amlodipine 10 mg Tablet Sig: One (1) Tablet...   \n",
       "\n",
       "      Discharge_Disposition  \\\n",
       "0             Extended Care   \n",
       "1         Home With Service   \n",
       "2         Home With Service   \n",
       "3         Home With Service   \n",
       "4         Home With Service   \n",
       "...                     ...   \n",
       "10957                  Home   \n",
       "10958     Home With Service   \n",
       "10959     Home With Service   \n",
       "10960                  Home   \n",
       "10961     Home With Service   \n",
       "\n",
       "                                     Discharge_Diagnosis  \\\n",
       "0      PRIMARY:\\nCOPD Exacerbation\\n\\nSECONDARY:\\nAfi...   \n",
       "1      Primary Diagnosis\\nNeutropenic Fever, no sourc...   \n",
       "2                                        Ischemic stroke   \n",
       "3      Primary: \\nAcute diastolic CHF exacerbation\\nN...   \n",
       "4                               Primary: mechanical fall   \n",
       "...                                                  ...   \n",
       "10957                              Abducens nerve palsy.   \n",
       "10958  PRIMARY\\nHepatic Encephalopathy\\nUTI\\nPulmonar...   \n",
       "10959  Primary diagnoses:\\n- Acute on chronic diastol...   \n",
       "10960  PRIMARY DIAGNOSES\\n# Complex Alcohol Withdrawa...   \n",
       "10961  PRIMARY DIAGNOSES:\\n- Respiratory failure\\n- C...   \n",
       "\n",
       "                        Discharge_Condition  \\\n",
       "0        Mental Status: Clear and coherent.   \n",
       "1        Mental Status: Clear and coherent.   \n",
       "2        Mental Status: Clear and coherent.   \n",
       "3        Mental Status: Clear and coherent.   \n",
       "4      Mental Status: Confused - sometimes.   \n",
       "...                                     ...   \n",
       "10957    Mental Status: Clear and coherent.   \n",
       "10958    Mental Status: Clear and coherent.   \n",
       "10959    Mental Status: Clear and coherent.   \n",
       "10960  Mental Status: Confused - sometimes.   \n",
       "10961    Mental Status: Clear and coherent.   \n",
       "\n",
       "                                  Discharge_Instructions  \n",
       "0      Dear Ms. ___,\\n\\nYou were admitted to ___ afte...  \n",
       "1      Dear Mr. ___,\\n\\nIt has been our pleasure to b...  \n",
       "2      Dear ___ were hospitalized due to symptoms of ...  \n",
       "3      It was a pleasure caring for you at ___ \\n___....  \n",
       "4      Dear Mr. ___,\\n\\nIt was our pleasure to care f...  \n",
       "...                                                  ...  \n",
       "10957  You came to the hospital with double vision (d...  \n",
       "10958  Dear Ms. ___,\\n\\nIt was a pleasure being a par...  \n",
       "10959  Dear ___,\\n\\n___ was a pleasure taking care of...  \n",
       "10960  ___,\\n\\nFue un placer atenderlo en ___ Médico ...  \n",
       "10961  You were admitted to the ICU with respiratory ...  \n",
       "\n",
       "[10962 rows x 25 columns]"
      ]
     },
     "execution_count": 15,
     "metadata": {},
     "output_type": "execute_result"
    }
   ],
   "source": [
    "df"
   ]
  },
  {
   "cell_type": "markdown",
   "id": "69888afc",
   "metadata": {
    "pycharm": {
     "name": "#%% md\n"
    }
   },
   "source": [
    "# Target Section Summarization"
   ]
  },
  {
   "cell_type": "markdown",
   "id": "071c8798",
   "metadata": {
    "pycharm": {
     "name": "#%% md\n"
    }
   },
   "source": [
    "## Read generated Brief Hospital Course"
   ]
  },
  {
   "cell_type": "code",
   "execution_count": 16,
   "id": "8e10da9e",
   "metadata": {
    "pycharm": {
     "name": "#%%\n"
    }
   },
   "outputs": [],
   "source": [
    "brief_hospital_course_df = pd.read_csv(f\"../data/{dataset}/brief_hospital_course.csv\")"
   ]
  },
  {
   "cell_type": "code",
   "execution_count": 17,
   "id": "8c05d766",
   "metadata": {
    "pycharm": {
     "name": "#%%\n"
    }
   },
   "outputs": [],
   "source": [
    "df = df.merge(brief_hospital_course_df, on=['hadm_id'])"
   ]
  },
  {
   "cell_type": "markdown",
   "id": "1d13afbc",
   "metadata": {
    "pycharm": {
     "name": "#%% md\n"
    }
   },
   "source": [
    "## Pre-processing"
   ]
  },
  {
   "cell_type": "markdown",
   "id": "e18b4f56",
   "metadata": {
    "pycharm": {
     "name": "#%% md\n"
    }
   },
   "source": [
    "Remove Target from the Input Text"
   ]
  },
  {
   "cell_type": "code",
   "execution_count": 18,
   "id": "da8afa4a",
   "metadata": {
    "pycharm": {
     "name": "#%%\n"
    }
   },
   "outputs": [],
   "source": [
    "df = df.apply(remove_output_from_input, axis=1)\n",
    "df = df.rename(columns={'new_text': 'processed_text'})"
   ]
  },
  {
   "cell_type": "markdown",
   "id": "8dec9bec",
   "metadata": {
    "pycharm": {
     "name": "#%% md\n"
    }
   },
   "source": [
    "Calculate Number of Words"
   ]
  },
  {
   "cell_type": "code",
   "execution_count": 19,
   "id": "62de623c",
   "metadata": {
    "pycharm": {
     "name": "#%%\n"
    }
   },
   "outputs": [],
   "source": [
    "df = df.apply(calculate_word_count, axis=1)"
   ]
  },
  {
   "cell_type": "markdown",
   "id": "f145d058",
   "metadata": {
    "pycharm": {
     "name": "#%% md\n"
    }
   },
   "source": [
    "## Discharge Instructions Summarization"
   ]
  },
  {
   "cell_type": "code",
   "execution_count": 20,
   "id": "148a83eb",
   "metadata": {
    "pycharm": {
     "name": "#%%\n"
    }
   },
   "outputs": [],
   "source": [
    "df['processed_text_word_count'] = df['processed_text'].apply(lambda x: len(x.split(\" \")))\n",
    "df = df.sort_values(by=['processed_text_word_count'], ascending=False)"
   ]
  },
  {
   "cell_type": "code",
   "execution_count": 21,
   "id": "14557373",
   "metadata": {
    "scrolled": true,
    "pycharm": {
     "name": "#%%\n"
    }
   },
   "outputs": [],
   "source": [
    "thres = 1000\n",
    "df['category'] = df['processed_text_word_count'].apply(lambda x: 1 if x < thres else 0)"
   ]
  },
  {
   "cell_type": "code",
   "execution_count": 22,
   "id": "ed68a624",
   "metadata": {
    "pycharm": {
     "name": "#%%\n"
    }
   },
   "outputs": [],
   "source": [
    "mask = (df['processed_text_word_count'] >= 1000) & (df['processed_text_word_count'] <= 1300)\n",
    "df.loc[mask, 'category'] = 2"
   ]
  },
  {
   "cell_type": "code",
   "execution_count": 23,
   "id": "3ec650a8",
   "metadata": {
    "pycharm": {
     "name": "#%%\n"
    }
   },
   "outputs": [],
   "source": [
    "root_path = f'../data/{dataset}/discharge_instructions_cache/'\n",
    "num_workers = 1"
   ]
  },
  {
   "cell_type": "code",
   "execution_count": 24,
   "id": "622b0faa",
   "metadata": {
    "scrolled": true,
    "pycharm": {
     "name": "#%%\n"
    }
   },
   "outputs": [
    {
     "name": "stdout",
     "output_type": "stream",
     "text": [
      "0 :  Loaded cached file. Done\n",
      "1 :  Loaded cached file. Done\n",
      "2 :  Loaded cached file. Done\n"
     ]
    }
   ],
   "source": [
    "inputs = [(root_path,\n",
    "           'discharge_instructions',\n",
    "           domain,\n",
    "           df[df['category'] == domain].reset_index(drop=True),\n",
    "           100,\n",
    "           )\n",
    "          for domain in [0, 1, 2]]\n",
    "start_time = time.time()\n",
    "with Pool(num_workers) as processor:\n",
    "    data = processor.starmap(target_section_summarization, inputs)"
   ]
  },
  {
   "cell_type": "code",
   "execution_count": 25,
   "id": "a9abf6c0",
   "metadata": {
    "pycharm": {
     "name": "#%%\n"
    }
   },
   "outputs": [
    {
     "data": {
      "text/plain": [
       "(10962, 2)"
      ]
     },
     "execution_count": 25,
     "metadata": {},
     "output_type": "execute_result"
    }
   ],
   "source": [
    "processed_df = pd.concat(data).drop_duplicates(['hadm_id'])\n",
    "processed_df.shape"
   ]
  },
  {
   "cell_type": "code",
   "execution_count": 26,
   "id": "8458e1d7",
   "metadata": {
    "pycharm": {
     "name": "#%%\n"
    }
   },
   "outputs": [],
   "source": [
    "df = df.merge(processed_df, on=['hadm_id'])"
   ]
  },
  {
   "cell_type": "markdown",
   "id": "ed5a74b1",
   "metadata": {
    "pycharm": {
     "name": "#%% md\n"
    }
   },
   "source": [
    "# Post-processing"
   ]
  },
  {
   "cell_type": "code",
   "execution_count": 27,
   "id": "499791be",
   "metadata": {
    "pycharm": {
     "name": "#%%\n"
    }
   },
   "outputs": [],
   "source": [
    "df['discharge_instructions'] = df['discharge_instructions'].apply(remove_repitition)\n",
    "df['discharge_instructions'] = df['discharge_instructions'].apply(lambda text: re.sub(r'([A-Za-z0-9,._][ \\s])\\n([A-Za-z0-9])', r'\\1\\2', text))\n",
    "df['discharge_instructions'] = df['discharge_instructions'].apply(remove_sent_repitition)"
   ]
  },
  {
   "cell_type": "code",
   "execution_count": 28,
   "id": "355902cc",
   "metadata": {
    "pycharm": {
     "name": "#%%\n"
    }
   },
   "outputs": [
    {
     "data": {
      "application/vnd.jupyter.widget-view+json": {
       "model_id": "4534feebf18a419bb4cb84632b1fac1c",
       "version_major": 2,
       "version_minor": 0
      },
      "text/plain": [
       "VBox(children=(HBox(children=(IntProgress(value=0, description='0.00%', max=1097), Label(value='0 / 1097'))), …"
      ]
     },
     "metadata": {},
     "output_type": "display_data"
    }
   ],
   "source": [
    "mask = pd.notnull(df['discharge_instructions'])\n",
    "df.loc[mask, 'discharge_instructions'] = df[mask].parallel_apply(post_process_discharge_instructions, axis=1)"
   ]
  },
  {
   "cell_type": "code",
   "execution_count": 29,
   "id": "e2a5f28f",
   "metadata": {
    "pycharm": {
     "name": "#%%\n"
    }
   },
   "outputs": [],
   "source": [
    "df = df.drop_duplicates(subset=['hadm_id'])"
   ]
  },
  {
   "cell_type": "code",
   "execution_count": 30,
   "id": "bf2b1da5",
   "metadata": {
    "pycharm": {
     "name": "#%%\n"
    }
   },
   "outputs": [
    {
     "name": "stdout",
     "output_type": "stream",
     "text": [
      "Dear Ms. ___,\n",
      "It was a pleasure taking care of you at ___. You were admitted for pneumonia. You were treated with antibiotics and prednisone. You are now ready to be discharged. Please follow the instructions below to continue your recovery:\n",
      "\n",
      "Please call your doctor or nurse practitioner or return to the Emergency Department for any of the following:\n",
      "*You experience new chest pain, pressure, squeezing or tightness.\n",
      "*New or worsening cough, shortness of breath, or wheeze.\n",
      "*If you are vomiting and cannot keep down fluids or your medications.\n",
      "*You are getting dehydrated due to continued vomiting, diarrhea, or other reasons. Signs of dehydration include dry mouth, rapid heartbeat, or feeling dizzy or faint when standing.\n",
      "*You see blood or dark/black material when you vomit or have a bowel movement.\n",
      "*You experience burning when you urinate, have blood in your urine, or experience a discharge.\n",
      "*Your pain increases or becomes constant, or changes location. Or you have new pain that is severe or unusual.\n",
      "*You have shaking chills, or fever greater than 101.5 degrees Fahrenheit or 38 degrees Celsius.\n",
      "*Any change in your symptoms, or any new symptoms that concern you.\n",
      "Please resume all regular home medications, unless specifically advised not to take a particular medication. \n",
      "\n",
      "Please take your antibiotics (Bactrim) as follows:\n",
      "- 2 tablets three times a day for 13 days (last day ___\n",
      "- 1 tablet daily for 7 days (last day ___\n",
      "Please take your prednisone taper as follows:\n",
      "- 40mg twice a day for 5 days (last day ___\n",
      "- 40mg daily for 11 days (last day ___\n",
      "- 10mg daily for 7 days (last day ___\n",
      "- 5mg daily for 7 days (last day ___\n",
      "Please take your desmopressin as follows:\n",
      "- 40mg twice\n",
      "Sincerely,\n",
      "Your ___ Care Team\n"
     ]
    }
   ],
   "source": [
    "print(df['discharge_instructions'].iloc[0])"
   ]
  },
  {
   "cell_type": "code",
   "execution_count": 31,
   "id": "fc1a5857",
   "metadata": {
    "pycharm": {
     "name": "#%%\n"
    }
   },
   "outputs": [],
   "source": [
    "df[['hadm_id', 'discharge_instructions']].to_csv(f\"../data/{dataset}/discharge_instructions.csv\", index=False)"
   ]
  },
  {
   "cell_type": "code",
   "execution_count": null,
   "id": "a7b87fa9",
   "metadata": {
    "pycharm": {
     "name": "#%%\n"
    }
   },
   "outputs": [],
   "source": []
  }
 ],
 "metadata": {
  "kernelspec": {
   "display_name": "Python 3 (ipykernel)",
   "language": "python",
   "name": "python3"
  },
  "language_info": {
   "codemirror_mode": {
    "name": "ipython",
    "version": 3
   },
   "file_extension": ".py",
   "mimetype": "text/x-python",
   "name": "python",
   "nbconvert_exporter": "python",
   "pygments_lexer": "ipython3",
   "version": "3.9.18"
  },
  "toc": {
   "base_numbering": 1,
   "nav_menu": {},
   "number_sections": true,
   "sideBar": true,
   "skip_h1_title": false,
   "title_cell": "Table of Contents",
   "title_sidebar": "Contents",
   "toc_cell": false,
   "toc_position": {
    "height": "calc(100% - 180px)",
    "left": "10px",
    "top": "150px",
    "width": "409.6px"
   },
   "toc_section_display": true,
   "toc_window_display": true
  }
 },
 "nbformat": 4,
 "nbformat_minor": 5
}